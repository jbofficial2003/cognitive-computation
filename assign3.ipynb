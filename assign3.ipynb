{
 "cells": [
  {
   "cell_type": "code",
   "execution_count": 1,
   "metadata": {},
   "outputs": [
    {
     "data": {
      "text/html": [
       "<div>\n",
       "<style scoped>\n",
       "    .dataframe tbody tr th:only-of-type {\n",
       "        vertical-align: middle;\n",
       "    }\n",
       "\n",
       "    .dataframe tbody tr th {\n",
       "        vertical-align: top;\n",
       "    }\n",
       "\n",
       "    .dataframe thead th {\n",
       "        text-align: right;\n",
       "    }\n",
       "</style>\n",
       "<table border=\"1\" class=\"dataframe\">\n",
       "  <thead>\n",
       "    <tr style=\"text-align: right;\">\n",
       "      <th></th>\n",
       "      <th>Tid</th>\n",
       "      <th>Refund</th>\n",
       "      <th>Martial Status</th>\n",
       "      <th>Taxable Income</th>\n",
       "      <th>Cheat</th>\n",
       "    </tr>\n",
       "  </thead>\n",
       "  <tbody>\n",
       "    <tr>\n",
       "      <th>0</th>\n",
       "      <td>1</td>\n",
       "      <td>yes</td>\n",
       "      <td>single</td>\n",
       "      <td>125k</td>\n",
       "      <td>no</td>\n",
       "    </tr>\n",
       "    <tr>\n",
       "      <th>1</th>\n",
       "      <td>2</td>\n",
       "      <td>no</td>\n",
       "      <td>married</td>\n",
       "      <td>100k</td>\n",
       "      <td>no</td>\n",
       "    </tr>\n",
       "    <tr>\n",
       "      <th>2</th>\n",
       "      <td>3</td>\n",
       "      <td>no</td>\n",
       "      <td>single</td>\n",
       "      <td>70k</td>\n",
       "      <td>no</td>\n",
       "    </tr>\n",
       "    <tr>\n",
       "      <th>3</th>\n",
       "      <td>4</td>\n",
       "      <td>yes</td>\n",
       "      <td>married</td>\n",
       "      <td>120k</td>\n",
       "      <td>no</td>\n",
       "    </tr>\n",
       "    <tr>\n",
       "      <th>4</th>\n",
       "      <td>5</td>\n",
       "      <td>no</td>\n",
       "      <td>divorced</td>\n",
       "      <td>95k</td>\n",
       "      <td>yes</td>\n",
       "    </tr>\n",
       "    <tr>\n",
       "      <th>5</th>\n",
       "      <td>6</td>\n",
       "      <td>no</td>\n",
       "      <td>married</td>\n",
       "      <td>60k</td>\n",
       "      <td>no</td>\n",
       "    </tr>\n",
       "    <tr>\n",
       "      <th>6</th>\n",
       "      <td>7</td>\n",
       "      <td>yes</td>\n",
       "      <td>divorced</td>\n",
       "      <td>220k</td>\n",
       "      <td>no</td>\n",
       "    </tr>\n",
       "    <tr>\n",
       "      <th>7</th>\n",
       "      <td>8</td>\n",
       "      <td>no</td>\n",
       "      <td>single</td>\n",
       "      <td>85k</td>\n",
       "      <td>yes</td>\n",
       "    </tr>\n",
       "    <tr>\n",
       "      <th>8</th>\n",
       "      <td>9</td>\n",
       "      <td>no</td>\n",
       "      <td>married</td>\n",
       "      <td>75k</td>\n",
       "      <td>no</td>\n",
       "    </tr>\n",
       "    <tr>\n",
       "      <th>9</th>\n",
       "      <td>10</td>\n",
       "      <td>no</td>\n",
       "      <td>single</td>\n",
       "      <td>90k</td>\n",
       "      <td>yes</td>\n",
       "    </tr>\n",
       "  </tbody>\n",
       "</table>\n",
       "</div>"
      ],
      "text/plain": [
       "   Tid Refund Martial Status Taxable Income Cheat\n",
       "0    1    yes         single           125k    no\n",
       "1    2     no        married           100k    no\n",
       "2    3     no         single            70k    no\n",
       "3    4    yes        married           120k    no\n",
       "4    5     no       divorced            95k   yes\n",
       "5    6     no        married            60k    no\n",
       "6    7    yes       divorced           220k    no\n",
       "7    8     no         single            85k   yes\n",
       "8    9     no        married            75k    no\n",
       "9   10     no         single            90k   yes"
      ]
     },
     "execution_count": 1,
     "metadata": {},
     "output_type": "execute_result"
    }
   ],
   "source": [
    "#Q 1\n",
    "import pandas as pd \n",
    "data={\n",
    "    \"Tid\":[1,2,3,4,5,6,7,8,9,10],\n",
    "    \"Refund\":[\"yes\",\"no\",\"no\",\"yes\",\"no\",\"no\",\"yes\",\"no\",\"no\",\"no\"],\n",
    "    \"Martial Status\":[\"single\",\"married\",\"single\",\"married\",\"divorced\",\"married\",\"divorced\",\"single\",\"married\",\"single\"],\n",
    "    \"Taxable Income\":[\"125k\",\"100k\",\"70k\",\"120k\",\"95k\",\"60k\",\"220k\",\"85k\",\"75k\",\"90k\"],\n",
    "    \"Cheat\":[\"no\",\"no\",\"no\",\"no\",\"yes\",\"no\",\"no\",\"yes\",\"no\",\"yes\"]\n",
    "}\n",
    "df=pd.DataFrame(data)\n",
    "df"
   ]
  },
  {
   "cell_type": "code",
   "execution_count": 5,
   "metadata": {},
   "outputs": [
    {
     "data": {
      "text/html": [
       "<div>\n",
       "<style scoped>\n",
       "    .dataframe tbody tr th:only-of-type {\n",
       "        vertical-align: middle;\n",
       "    }\n",
       "\n",
       "    .dataframe tbody tr th {\n",
       "        vertical-align: top;\n",
       "    }\n",
       "\n",
       "    .dataframe thead th {\n",
       "        text-align: right;\n",
       "    }\n",
       "</style>\n",
       "<table border=\"1\" class=\"dataframe\">\n",
       "  <thead>\n",
       "    <tr style=\"text-align: right;\">\n",
       "      <th></th>\n",
       "      <th>Tid</th>\n",
       "      <th>Refund</th>\n",
       "      <th>Martial Status</th>\n",
       "      <th>Taxable Income</th>\n",
       "      <th>Cheat</th>\n",
       "    </tr>\n",
       "  </thead>\n",
       "  <tbody>\n",
       "    <tr>\n",
       "      <th>0</th>\n",
       "      <td>1</td>\n",
       "      <td>yes</td>\n",
       "      <td>single</td>\n",
       "      <td>125k</td>\n",
       "      <td>no</td>\n",
       "    </tr>\n",
       "    <tr>\n",
       "      <th>4</th>\n",
       "      <td>5</td>\n",
       "      <td>no</td>\n",
       "      <td>divorced</td>\n",
       "      <td>95k</td>\n",
       "      <td>yes</td>\n",
       "    </tr>\n",
       "    <tr>\n",
       "      <th>7</th>\n",
       "      <td>8</td>\n",
       "      <td>no</td>\n",
       "      <td>single</td>\n",
       "      <td>85k</td>\n",
       "      <td>yes</td>\n",
       "    </tr>\n",
       "    <tr>\n",
       "      <th>8</th>\n",
       "      <td>9</td>\n",
       "      <td>no</td>\n",
       "      <td>married</td>\n",
       "      <td>75k</td>\n",
       "      <td>no</td>\n",
       "    </tr>\n",
       "  </tbody>\n",
       "</table>\n",
       "</div>"
      ],
      "text/plain": [
       "   Tid Refund Martial Status Taxable Income Cheat\n",
       "0    1    yes         single           125k    no\n",
       "4    5     no       divorced            95k   yes\n",
       "7    8     no         single            85k   yes\n",
       "8    9     no        married            75k    no"
      ]
     },
     "execution_count": 5,
     "metadata": {},
     "output_type": "execute_result"
    }
   ],
   "source": [
    "#Q2\n",
    "df.iloc[[0,4,7,8]]"
   ]
  },
  {
   "cell_type": "code",
   "execution_count": 9,
   "metadata": {},
   "outputs": [
    {
     "name": "stdout",
     "output_type": "stream",
     "text": [
      "   Tid Refund Martial Status Taxable Income Cheat\n",
      "3    4    yes        married           120k    no\n",
      "4    5     no       divorced            95k   yes\n",
      "5    6     no        married            60k    no\n",
      "6    7    yes       divorced           220k    no\n",
      "7    8     no         single            85k   yes\n",
      "  Martial Status Taxable Income Cheat\n",
      "4       divorced            95k   yes\n",
      "5        married            60k    no\n",
      "6       divorced           220k    no\n",
      "7         single            85k   yes\n",
      "8        married            75k    no\n",
      "  Refund Martial Status Taxable Income\n",
      "0    yes         single           125k\n",
      "1     no        married           100k\n",
      "2     no         single            70k\n",
      "3    yes        married           120k\n",
      "4     no       divorced            95k\n",
      "5     no        married            60k\n",
      "6    yes       divorced           220k\n",
      "7     no         single            85k\n",
      "8     no        married            75k\n",
      "9     no         single            90k\n"
     ]
    }
   ],
   "source": [
    "#Q3\n",
    "print(df.iloc[3:8])\n",
    "print(df.iloc[4:9,2:5])\n",
    "print(df.iloc[:,1:4])"
   ]
  },
  {
   "cell_type": "code",
   "execution_count": 10,
   "metadata": {},
   "outputs": [
    {
     "name": "stdout",
     "output_type": "stream",
     "text": [
      "   Id  SepalLengthCm  SepalWidthCm  PetalLengthCm  PetalWidthCm      Species\n",
      "0   1            5.1           3.5            1.4           0.2  Iris-setosa\n",
      "1   2            4.9           3.0            1.4           0.2  Iris-setosa\n",
      "2   3            4.7           3.2            1.3           0.2  Iris-setosa\n",
      "3   4            4.6           3.1            1.5           0.2  Iris-setosa\n",
      "4   5            5.0           3.6            1.4           0.2  Iris-setosa\n"
     ]
    }
   ],
   "source": [
    "#Q4\n",
    "df = pd.read_csv('iris.csv')\n",
    "print(df.head())"
   ]
  },
  {
   "cell_type": "code",
   "execution_count": 11,
   "metadata": {},
   "outputs": [
    {
     "name": "stdout",
     "output_type": "stream",
     "text": [
      "      Id  SepalLengthCm  SepalWidthCm  PetalWidthCm         Species\n",
      "0      1            5.1           3.5           0.2     Iris-setosa\n",
      "1      2            4.9           3.0           0.2     Iris-setosa\n",
      "2      3            4.7           3.2           0.2     Iris-setosa\n",
      "3      4            4.6           3.1           0.2     Iris-setosa\n",
      "5      6            5.4           3.9           0.4     Iris-setosa\n",
      "..   ...            ...           ...           ...             ...\n",
      "145  146            6.7           3.0           2.3  Iris-virginica\n",
      "146  147            6.3           2.5           1.9  Iris-virginica\n",
      "147  148            6.5           3.0           2.0  Iris-virginica\n",
      "148  149            6.2           3.4           2.3  Iris-virginica\n",
      "149  150            5.9           3.0           1.8  Iris-virginica\n",
      "\n",
      "[149 rows x 5 columns]\n"
     ]
    }
   ],
   "source": [
    "#Q5\n",
    "df.drop(4,axis=0,inplace=True)\n",
    "df.drop(df.columns[3],axis=1,inplace=True)\n",
    "print(df)"
   ]
  },
  {
   "cell_type": "code",
   "execution_count": 12,
   "metadata": {},
   "outputs": [
    {
     "name": "stdout",
     "output_type": "stream",
     "text": [
      "   Employee id     Name Department  Age  Salary  Years_Of_Experience  \\\n",
      "0          101    Alice         HR   29   50000                    4   \n",
      "1          102      Bob         IT   34   70000                    8   \n",
      "2          103  Charlie         IT   41   65000                   10   \n",
      "3          104    Diana  Marketing   28   55000                    3   \n",
      "4          105   Edward      Sales   38   60000                   12   \n",
      "\n",
      "  Joining_Date  Gender  Bonus  Rating  \n",
      "0   2020-03-15  Female   5000     4.5  \n",
      "1   2017-07-19    Male   7000     4.0  \n",
      "2   2013-06-01    Male   6000     3.8  \n",
      "3   2021-02-10  Female   4500     4.7  \n",
      "4   2010-11-25    Male   5000     3.5  \n"
     ]
    }
   ],
   "source": [
    "#Q6\n",
    "data=pd.DataFrame({\n",
    "    \"Employee id\":[101,102,103,104,105],\n",
    "    \"Name\":[\"Alice\",\"Bob\",\"Charlie\",\"Diana\",\"Edward\"],\n",
    "    \"Department\":[\"HR\",\"IT\",\"IT\",\"Marketing\",\"Sales\"],\n",
    "    \"Age\":[29,34,41,28,38],\n",
    "    \"Salary\":[50000,70000,65000,55000,60000],\n",
    "    \"Years_Of_Experience\":[4,8,10,3,12],\n",
    "    \"Joining_Date\":[\"2020-03-15\",\"2017-07-19\",\"2013-06-01\",\"2021-02-10\",\"2010-11-25\"],\n",
    "    \"Gender\":[\"Female\",\"Male\",\"Male\",\"Female\",\"Male\"],\n",
    "    \"Bonus\":[5000,7000,6000,4500,5000],\n",
    "    \"Rating\":[4.5,4.0,3.8,4.7,3.5]\n",
    "})\n",
    "print(data)"
   ]
  },
  {
   "cell_type": "code",
   "execution_count": 14,
   "metadata": {},
   "outputs": [
    {
     "name": "stdout",
     "output_type": "stream",
     "text": [
      "(5, 10)\n",
      "<class 'pandas.core.frame.DataFrame'>\n",
      "RangeIndex: 5 entries, 0 to 4\n",
      "Data columns (total 10 columns):\n",
      " #   Column               Non-Null Count  Dtype  \n",
      "---  ------               --------------  -----  \n",
      " 0   Employee id          5 non-null      int64  \n",
      " 1   Name                 5 non-null      object \n",
      " 2   Department           5 non-null      object \n",
      " 3   Age                  5 non-null      int64  \n",
      " 4   Salary               5 non-null      int64  \n",
      " 5   Years_Of_Experience  5 non-null      int64  \n",
      " 6   Joining_Date         5 non-null      object \n",
      " 7   Gender               5 non-null      object \n",
      " 8   Bonus                5 non-null      int64  \n",
      " 9   Rating               5 non-null      float64\n",
      "dtypes: float64(1), int64(5), object(4)\n",
      "memory usage: 532.0+ bytes\n",
      "None\n",
      "       Employee id        Age       Salary  Years_Of_Experience   Bonus  \\\n",
      "count     5.000000   5.000000      5.00000             5.000000     5.0   \n",
      "mean    103.000000  34.000000  60000.00000             7.400000  5500.0   \n",
      "std       1.581139   5.612486   7905.69415             3.847077  1000.0   \n",
      "min     101.000000  28.000000  50000.00000             3.000000  4500.0   \n",
      "25%     102.000000  29.000000  55000.00000             4.000000  5000.0   \n",
      "50%     103.000000  34.000000  60000.00000             8.000000  5000.0   \n",
      "75%     104.000000  38.000000  65000.00000            10.000000  6000.0   \n",
      "max     105.000000  41.000000  70000.00000            12.000000  7000.0   \n",
      "\n",
      "         Rating  \n",
      "count  5.000000  \n",
      "mean   4.100000  \n",
      "std    0.494975  \n",
      "min    3.500000  \n",
      "25%    3.800000  \n",
      "50%    4.000000  \n",
      "75%    4.500000  \n",
      "max    4.700000  \n",
      "   Employee id     Name Department  Age  Salary  Years_Of_Experience  \\\n",
      "0          101    Alice         HR   29   50000                    4   \n",
      "1          102      Bob         IT   34   70000                    8   \n",
      "2          103  Charlie         IT   41   65000                   10   \n",
      "3          104    Diana  Marketing   28   55000                    3   \n",
      "4          105   Edward      Sales   38   60000                   12   \n",
      "\n",
      "  Joining_Date  Gender  Bonus  Rating  \n",
      "0   2020-03-15  Female   5000     4.5  \n",
      "1   2017-07-19    Male   7000     4.0  \n",
      "2   2013-06-01    Male   6000     3.8  \n",
      "3   2021-02-10  Female   4500     4.7  \n",
      "4   2010-11-25    Male   5000     3.5  \n",
      "   Employee id     Name Department  Age  Salary  Years_Of_Experience  \\\n",
      "2          103  Charlie         IT   41   65000                   10   \n",
      "3          104    Diana  Marketing   28   55000                    3   \n",
      "4          105   Edward      Sales   38   60000                   12   \n",
      "\n",
      "  Joining_Date  Gender  Bonus  Rating  \n",
      "2   2013-06-01    Male   6000     3.8  \n",
      "3   2021-02-10  Female   4500     4.7  \n",
      "4   2010-11-25    Male   5000     3.5  \n"
     ]
    }
   ],
   "source": [
    "print(data.shape)\n",
    "print(data.info())\n",
    "print(data.describe())\n",
    "print(data.head(5))\n",
    "print(data.tail(3))"
   ]
  },
  {
   "cell_type": "code",
   "execution_count": 16,
   "metadata": {},
   "outputs": [
    {
     "name": "stdout",
     "output_type": "stream",
     "text": [
      "60000.0\n",
      "27500\n",
      "28\n",
      "4.7\n"
     ]
    }
   ],
   "source": [
    "# part e\n",
    "avg=data[\"Salary\"].mean()\n",
    "print(avg)\n",
    "\n",
    "bonus=data[\"Bonus\"].sum()\n",
    "print(bonus)\n",
    "\n",
    "young=data[\"Age\"].min()\n",
    "print(young)\n",
    "\n",
    "rating=data[\"Rating\"].max()\n",
    "print(rating)"
   ]
  },
  {
   "cell_type": "code",
   "execution_count": 17,
   "metadata": {},
   "outputs": [
    {
     "name": "stdout",
     "output_type": "stream",
     "text": [
      "   Employee id     Name Department  Age  Salary  Years_Of_Experience  \\\n",
      "1          102      Bob         IT   34   70000                    8   \n",
      "2          103  Charlie         IT   41   65000                   10   \n",
      "4          105   Edward      Sales   38   60000                   12   \n",
      "3          104    Diana  Marketing   28   55000                    3   \n",
      "0          101    Alice         HR   29   50000                    4   \n",
      "\n",
      "  Joining_Date  Gender  Bonus  Rating  \n",
      "1   2017-07-19    Male   7000     4.0  \n",
      "2   2013-06-01    Male   6000     3.8  \n",
      "4   2010-11-25    Male   5000     3.5  \n",
      "3   2021-02-10  Female   4500     4.7  \n",
      "0   2020-03-15  Female   5000     4.5  \n"
     ]
    }
   ],
   "source": [
    "#f\n",
    "sorted=data.sort_values(by=\"Salary\",ascending=False)\n",
    "print(sorted.head())"
   ]
  },
  {
   "cell_type": "code",
   "execution_count": 18,
   "metadata": {},
   "outputs": [
    {
     "name": "stdout",
     "output_type": "stream",
     "text": [
      "   Employee id     Name Department  Age  Salary  Years_Of_Experience  \\\n",
      "0          101    Alice         HR   29   50000                    4   \n",
      "1          102      Bob         IT   34   70000                    8   \n",
      "2          103  Charlie         IT   41   65000                   10   \n",
      "3          104    Diana  Marketing   28   55000                    3   \n",
      "4          105   Edward      Sales   38   60000                   12   \n",
      "\n",
      "  Joining_Date  Gender  Bonus  Rating Performance  \n",
      "0   2020-03-15  Female   5000     4.5   Excellent  \n",
      "1   2017-07-19    Male   7000     4.0        Good  \n",
      "2   2013-06-01    Male   6000     3.8     Average  \n",
      "3   2021-02-10  Female   4500     4.7   Excellent  \n",
      "4   2010-11-25    Male   5000     3.5     Average  \n"
     ]
    }
   ],
   "source": [
    "#g\n",
    "def category(rating):\n",
    "  if(rating>=4.5):\n",
    "    return \"Excellent\"\n",
    "  elif (rating>=4.0 and rating<4.5):\n",
    "    return \"Good\"\n",
    "  else:\n",
    "    return \"Average\"\n",
    "\n",
    "data[\"Performance\"]=data[\"Rating\"].apply(category)\n",
    "print(data.head())"
   ]
  },
  {
   "cell_type": "code",
   "execution_count": 19,
   "metadata": {},
   "outputs": [
    {
     "name": "stdout",
     "output_type": "stream",
     "text": [
      "   Employee id   Name  Department    Age  Salary  Years_Of_Experience  \\\n",
      "0        False  False       False  False   False                False   \n",
      "1        False  False       False  False   False                False   \n",
      "2        False  False       False  False   False                False   \n",
      "3        False  False       False  False   False                False   \n",
      "4        False  False       False  False   False                False   \n",
      "\n",
      "   Joining_Date  Gender  Bonus  Rating  Performance  \n",
      "0         False   False  False   False        False  \n",
      "1         False   False  False   False        False  \n",
      "2         False   False  False   False        False  \n",
      "3         False   False  False   False        False  \n",
      "4         False   False  False   False        False  \n"
     ]
    }
   ],
   "source": [
    "#h\n",
    "missing=data.isnull()\n",
    "print(missing)"
   ]
  },
  {
   "cell_type": "code",
   "execution_count": 20,
   "metadata": {},
   "outputs": [
    {
     "name": "stdout",
     "output_type": "stream",
     "text": [
      "    ID     Name Department  Age  Salary  Years_Of_Experience Joining_Date  \\\n",
      "0  101    Alice         HR   29   50000                    4   2020-03-15   \n",
      "1  102      Bob         IT   34   70000                    8   2017-07-19   \n",
      "2  103  Charlie         IT   41   65000                   10   2013-06-01   \n",
      "3  104    Diana  Marketing   28   55000                    3   2021-02-10   \n",
      "4  105   Edward      Sales   38   60000                   12   2010-11-25   \n",
      "\n",
      "   Gender  Bonus  Rating Performance  \n",
      "0  Female   5000     4.5   Excellent  \n",
      "1    Male   7000     4.0        Good  \n",
      "2    Male   6000     3.8     Average  \n",
      "3  Female   4500     4.7   Excellent  \n",
      "4    Male   5000     3.5     Average  \n"
     ]
    }
   ],
   "source": [
    "#i\n",
    "data.rename(columns={\"Employee id\":\"ID\"},inplace=True)\n",
    "print(data.head())"
   ]
  },
  {
   "cell_type": "code",
   "execution_count": 23,
   "metadata": {},
   "outputs": [
    {
     "name": "stdout",
     "output_type": "stream",
     "text": [
      "    ID     Name Department  Age  Salary  Years_Of_Experience Joining_Date  \\\n",
      "1  102      Bob         IT   34   70000                    8   2017-07-19   \n",
      "2  103  Charlie         IT   41   65000                   10   2013-06-01   \n",
      "4  105   Edward      Sales   38   60000                   12   2010-11-25   \n",
      "\n",
      "  Gender  Bonus  Rating Performance  \n",
      "1   Male   7000     4.0        Good  \n",
      "2   Male   6000     3.8     Average  \n",
      "4   Male   5000     3.5     Average  \n",
      "    ID     Name Department  Age  Salary  Years_Of_Experience Joining_Date  \\\n",
      "1  102      Bob         IT   34   70000                    8   2017-07-19   \n",
      "2  103  Charlie         IT   41   65000                   10   2013-06-01   \n",
      "\n",
      "  Gender  Bonus  Rating Performance  \n",
      "1   Male   7000     4.0        Good  \n",
      "2   Male   6000     3.8     Average  \n"
     ]
    }
   ],
   "source": [
    "#j\n",
    "print(data[data[\"Years_Of_Experience\"] > 5])\n",
    "print(data[data[\"Department\"] == \"IT\"])"
   ]
  },
  {
   "cell_type": "code",
   "execution_count": 24,
   "metadata": {},
   "outputs": [
    {
     "name": "stdout",
     "output_type": "stream",
     "text": [
      "    ID     Name Department  Age  Salary  Years_Of_Experience Joining_Date  \\\n",
      "0  101    Alice         HR   29   50000                    4   2020-03-15   \n",
      "1  102      Bob         IT   34   70000                    8   2017-07-19   \n",
      "2  103  Charlie         IT   41   65000                   10   2013-06-01   \n",
      "3  104    Diana  Marketing   28   55000                    3   2021-02-10   \n",
      "4  105   Edward      Sales   38   60000                   12   2010-11-25   \n",
      "\n",
      "   Gender  Bonus  Rating Performance     Tax  \n",
      "0  Female   5000     4.5   Excellent  5000.0  \n",
      "1    Male   7000     4.0        Good  7000.0  \n",
      "2    Male   6000     3.8     Average  6500.0  \n",
      "3  Female   4500     4.7   Excellent  5500.0  \n",
      "4    Male   5000     3.5     Average  6000.0  \n"
     ]
    }
   ],
   "source": [
    "#k\n",
    "data [\"Tax\"]=data[\"Salary\"]*0.10\n",
    "print(data.head())"
   ]
  },
  {
   "cell_type": "code",
   "execution_count": 25,
   "metadata": {},
   "outputs": [],
   "source": [
    "#l\n",
    "data.to_csv(\"new_employee.csv\",index=False)"
   ]
  }
 ],
 "metadata": {
  "kernelspec": {
   "display_name": "Python 3",
   "language": "python",
   "name": "python3"
  },
  "language_info": {
   "codemirror_mode": {
    "name": "ipython",
    "version": 3
   },
   "file_extension": ".py",
   "mimetype": "text/x-python",
   "name": "python",
   "nbconvert_exporter": "python",
   "pygments_lexer": "ipython3",
   "version": "3.13.1"
  }
 },
 "nbformat": 4,
 "nbformat_minor": 2
}
