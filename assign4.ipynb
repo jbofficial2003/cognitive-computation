{
 "cells": [
  {
   "cell_type": "code",
   "execution_count": 2,
   "metadata": {},
   "outputs": [
    {
     "name": "stdout",
     "output_type": "stream",
     "text": [
      "[3 4 5 6 7]\n",
      "[ 3  6  9 12 15]\n",
      "[0.5 1.  1.5 2.  2.5]\n"
     ]
    }
   ],
   "source": [
    "#QUE 1\n",
    "import numpy as np\n",
    "arr=np.array([1,2,3,4,5])\n",
    "\n",
    "# a addition\n",
    "add_array=arr+2\n",
    "print(add_array)\n",
    "\n",
    "# b multiply by 3\n",
    "mul_array=arr*3\n",
    "print(mul_array)\n",
    "\n",
    "# c Divide every element by 2\n",
    "div_array=arr/2\n",
    "print(div_array)\n"
   ]
  },
  {
   "cell_type": "code",
   "execution_count": 13,
   "metadata": {},
   "outputs": [
    {
     "name": "stdout",
     "output_type": "stream",
     "text": [
      "[1 2 3 6 4 5]\n",
      "[5 4 6 3 2 1]\n"
     ]
    }
   ],
   "source": [
    "# QUE 2.a\n",
    "arr=np.array([1,2,3,6,4,5])\n",
    "print(arr)\n",
    "\n",
    "reverse_array=arr[::-1]             # or reverse_array[:-7:-1]\n",
    "print(reverse_array)"
   ]
  },
  {
   "cell_type": "code",
   "execution_count": 17,
   "metadata": {},
   "outputs": [
    {
     "name": "stdout",
     "output_type": "stream",
     "text": [
      "Most frequent value in x: 1\n",
      "Indices: [0 5 7 8 9]\n",
      "Most frequent value in y: 1\n",
      "Indices: [0 1 2]\n"
     ]
    }
   ],
   "source": [
    "#QUE 2.b\n",
    "x = np.array([1,2,3,4,5,1,2,1,1,1])\n",
    "\n",
    "unique, counts = np.unique(x, return_counts=True)\n",
    "most_frequent_value = unique[np.argmax(counts)]\n",
    "\n",
    "indices = np.where(x == most_frequent_value)[0]\n",
    "\n",
    "print(\"Most frequent value in x:\", most_frequent_value)\n",
    "print(\"Indices:\", indices)\n",
    "\n",
    "\n",
    "y = np.array([1, 1, 1, 2, 3, 4, 2, 4, 3, 3])\n",
    "\n",
    "unique, counts = np.unique(y, return_counts=True)\n",
    "most_frequent_value = unique[np.argmax(counts)]\n",
    "\n",
    "indices = np.where(y == most_frequent_value)[0]\n",
    "\n",
    "print(\"Most frequent value in y:\", most_frequent_value)\n",
    "print(\"Indices:\", indices)"
   ]
  },
  {
   "cell_type": "code",
   "execution_count": 27,
   "metadata": {},
   "outputs": [
    {
     "name": "stdout",
     "output_type": "stream",
     "text": [
      "20\n",
      "70\n"
     ]
    }
   ],
   "source": [
    "#QUE 3\n",
    "arr=np.array([[10,20,30],[40,50,60],[70,80,90]])\n",
    "#3.a\n",
    "print(arr[0,1])             #or print(arr[0][1])\n",
    "\n",
    "#3.b\n",
    "print(arr[2,0]) "
   ]
  },
  {
   "cell_type": "code",
   "execution_count": 32,
   "metadata": {},
   "outputs": [
    {
     "name": "stdout",
     "output_type": "stream",
     "text": [
      "[ 10.    13.75  17.5   21.25  25.    28.75  32.5   36.25  40.    43.75\n",
      "  47.5   51.25  55.    58.75  62.5   66.25  70.    73.75  77.5   81.25\n",
      "  85.    88.75  92.5   96.25 100.  ]\n",
      "Dimensions of the array: 1\n",
      "Shape of the array: (25,)\n",
      "Total elements in the array: 25\n",
      "Data type of each element: float64\n",
      "Total number of bytes consumed by the array: 200\n",
      "Transposed array using reshape():\n",
      " [[ 10.  ]\n",
      " [ 13.75]\n",
      " [ 17.5 ]\n",
      " [ 21.25]\n",
      " [ 25.  ]\n",
      " [ 28.75]\n",
      " [ 32.5 ]\n",
      " [ 36.25]\n",
      " [ 40.  ]\n",
      " [ 43.75]\n",
      " [ 47.5 ]\n",
      " [ 51.25]\n",
      " [ 55.  ]\n",
      " [ 58.75]\n",
      " [ 62.5 ]\n",
      " [ 66.25]\n",
      " [ 70.  ]\n",
      " [ 73.75]\n",
      " [ 77.5 ]\n",
      " [ 81.25]\n",
      " [ 85.  ]\n",
      " [ 88.75]\n",
      " [ 92.5 ]\n",
      " [ 96.25]\n",
      " [100.  ]]\n",
      "Transposed array using T attribute:\n",
      " [ 10.    13.75  17.5   21.25  25.    28.75  32.5   36.25  40.    43.75\n",
      "  47.5   51.25  55.    58.75  62.5   66.25  70.    73.75  77.5   81.25\n",
      "  85.    88.75  92.5   96.25 100.  ]\n"
     ]
    }
   ],
   "source": [
    "# QUE 4\n",
    "jahid=np.linspace(10,100,25)\n",
    "print(jahid)\n",
    "\n",
    "print(\"Dimensions of the array:\", jahid.ndim)\n",
    "print(\"Shape of the array:\", jahid.shape)\n",
    "print(\"Total elements in the array:\", jahid.size)\n",
    "print(\"Data type of each element:\", jahid.dtype)\n",
    "print(\"Total number of bytes consumed by the array:\", jahid.nbytes)\n",
    "\n",
    "transposed_array_reshape = jahid.reshape(25, 1)\n",
    "print(\"Transposed array using reshape():\\n\", transposed_array_reshape)\n",
    "\n",
    "transposed_array_T = jahid.T\n",
    "print(\"Transposed array using T attribute:\\n\", transposed_array_T)"
   ]
  },
  {
   "cell_type": "code",
   "execution_count": 33,
   "metadata": {},
   "outputs": [
    {
     "name": "stdout",
     "output_type": "stream",
     "text": [
      "Mean: 43.333333333333336\n",
      "Median: 37.5\n",
      "Max: 90\n",
      "Min: 10\n",
      "Unique elements: [10 15 20 30 35 40 50 60 70 80 90]\n",
      "Reshaped array (4 rows, 3 columns):\n",
      " [[10 20 30]\n",
      " [40 50 60]\n",
      " [70 80 90]\n",
      " [15 20 35]]\n",
      "Resized array (2 rows, 3 columns):\n",
      " [[10 20 30]\n",
      " [40 50 60]]\n"
     ]
    }
   ],
   "source": [
    "# QUE 5\n",
    "ucs420_jahid=np.array([[10, 20, 30, 40],[50, 60, 70, 80],[90, 15, 20, 35]])\n",
    "mean = np.mean(ucs420_jahid)\n",
    "median = np.median(ucs420_jahid)\n",
    "max = np.max(ucs420_jahid)\n",
    "min = np.min(ucs420_jahid)\n",
    "unique= np.unique(ucs420_jahid)\n",
    "\n",
    "print(\"Mean:\", mean)\n",
    "print(\"Median:\", median)\n",
    "print(\"Max:\", max)\n",
    "print(\"Min:\", min)\n",
    "print(\"Unique elements:\", unique)\n",
    "\n",
    "reshaped_ucs420_jahid = ucs420_jahid.reshape(4, 3)\n",
    "print(\"Reshaped array (4 rows, 3 columns):\\n\", reshaped_ucs420_jahid)\n",
    "\n",
    "resized_ucs420_jahid = np.resize(ucs420_jahid, (2, 3))\n",
    "print(\"Resized array (2 rows, 3 columns):\\n\", resized_ucs420_jahid)"
   ]
  }
 ],
 "metadata": {
  "kernelspec": {
   "display_name": "Python 3",
   "language": "python",
   "name": "python3"
  },
  "language_info": {
   "codemirror_mode": {
    "name": "ipython",
    "version": 3
   },
   "file_extension": ".py",
   "mimetype": "text/x-python",
   "name": "python",
   "nbconvert_exporter": "python",
   "pygments_lexer": "ipython3",
   "version": "3.13.1"
  }
 },
 "nbformat": 4,
 "nbformat_minor": 2
}
