{
 "cells": [
  {
   "cell_type": "code",
   "execution_count": 1,
   "id": "70f6d206-2f00-4ac1-bd4f-10d32e25b5d8",
   "metadata": {},
   "outputs": [
    {
     "name": "stdout",
     "output_type": "stream",
     "text": [
      "[10, 20, 40, 30, 50, 60, 70, 80]\n",
      "[10, 20, 40, 30, 50, 60, 70, 80, 200, 300]\n",
      "[20, 40, 50, 60, 70, 80, 200, 300]\n",
      "[20, 40, 50, 60, 70, 80, 200, 300]\n",
      "[300, 200, 80, 70, 60, 50, 40, 20]\n"
     ]
    }
   ],
   "source": [
    "# Q1\n",
    "L=[10,20,40,30,50,60,70,80]\n",
    "print(L)\n",
    "L.append(200)\n",
    "L.append(300)\n",
    "print(L)\n",
    "L.remove(10)\n",
    "L.remove(30)\n",
    "print(L)\n",
    "L.sort()\n",
    "print(L)\n",
    "L.sort(reverse=True)\n",
    "print(L)"
   ]
  },
  {
   "cell_type": "code",
   "execution_count": 2,
   "id": "6a3198eb-1e18-4c8c-abe0-4b30a9ab4e61",
   "metadata": {},
   "outputs": [
    {
     "name": "stdout",
     "output_type": "stream",
     "text": [
      "92\n",
      "5\n",
      "[45, 58, 92, 89, 45.4, 76, 89.5, 45]\n",
      "76  is in touple at index 2\n"
     ]
    }
   ],
   "source": [
    "#Q2\n",
    "scores=(45,89.5,76,45.4,89,92,58,45)\n",
    "high=max(scores)\n",
    "highest_index=scores.index(high)\n",
    "print(high)\n",
    "print(highest_index)\n",
    "reversed_list = list(scores[::-1])\n",
    "print(reversed_list)\n",
    "num=int(input(\"Enter a number to search\"))\n",
    "if num in scores:\n",
    "    print(num,\" is in touple at index\",scores.index(num))\n",
    "else:\n",
    "    print(num,\" is not in touple\")\n"
   ]
  },
  {
   "cell_type": "code",
   "execution_count": 4,
   "id": "43710a5d-ade8-48bc-8139-49acb8b84d84",
   "metadata": {},
   "outputs": [
    {
     "name": "stdout",
     "output_type": "stream",
     "text": [
      "[432, 240, 688, 399, 531, 823, 252, 399, 371, 244, 747, 636, 835, 599, 571, 336, 668, 339, 250, 876, 396, 661, 787, 167, 753, 127, 717, 502, 860, 323, 440, 191, 317, 356, 216, 236, 882, 830, 555, 297, 534, 503, 835, 771, 566, 539, 232, 868, 370, 312, 366, 806, 381, 846, 774, 595, 570, 654, 168, 672, 655, 626, 754, 850, 879, 648, 600, 885, 894, 608, 654, 304, 480, 163, 885, 854, 325, 374, 297, 308, 608, 101, 341, 688, 634, 478, 735, 533, 765, 762, 567, 717, 596, 102, 800, 552, 854, 158, 774, 124]\n",
      "Odd Numbers: [399, 531, 823, 399, 371, 747, 835, 599, 571, 339, 661, 787, 167, 753, 127, 717, 323, 191, 317, 555, 297, 503, 835, 771, 539, 381, 595, 655, 879, 885, 163, 885, 325, 297, 101, 341, 735, 533, 765, 567, 717]\n",
      "even Numbers: [432, 240, 688, 252, 244, 636, 336, 668, 250, 876, 396, 502, 860, 440, 356, 216, 236, 882, 830, 534, 566, 232, 868, 370, 312, 366, 806, 846, 774, 570, 654, 168, 672, 626, 754, 850, 648, 600, 894, 608, 654, 304, 480, 854, 374, 308, 608, 688, 634, 478, 762, 596, 102, 800, 552, 854, 158, 774, 124]\n",
      "Count of Odd Numbers: 41\n",
      "Count of even Numbers: 59\n",
      "[823, 599, 571, 661, 787, 167, 127, 191, 317, 503, 163, 101]\n",
      "12\n"
     ]
    }
   ],
   "source": [
    "#Q3\n",
    "import random\n",
    "number = [random.randint(100, 900) for _ in range(100)]\n",
    "print(number)\n",
    "odd_numbers = [x for x in number if x % 2 != 0]\n",
    "even_numbers = [num for num in number if num % 2 == 0]\n",
    "print(\"Odd Numbers:\", odd_numbers)\n",
    "print(\"even Numbers:\", even_numbers)\n",
    "odd_count = len(odd_numbers)\n",
    "even_count= len(even_numbers)\n",
    "print(\"Count of Odd Numbers:\", odd_count)\n",
    "print(\"Count of even Numbers:\", even_count)\n",
    "prime_numbers = []\n",
    "\n",
    "for num in number:\n",
    "    if num > 1:\n",
    "        is_prime = True\n",
    "        for i in range(2, int(num**0.5) + 1):\n",
    "            if num % i == 0:\n",
    "                is_prime = False\n",
    "                break\n",
    "        if is_prime:\n",
    "            prime_numbers.append(num)\n",
    "print(prime_numbers)\n",
    "prime_count=len(prime_numbers)\n",
    "print(prime_count)"
   ]
  },
  {
   "cell_type": "code",
   "execution_count": 5,
   "id": "2287a999",
   "metadata": {},
   "outputs": [
    {
     "name": "stdout",
     "output_type": "stream",
     "text": [
      "score achieved by both team: {34, 45, 78, 23, 56, 90}\n",
      "common score of both teams: {90, 78}\n",
      "Exclusive scores (Symmetric Difference): {34, 45, 23, 56}\n",
      "Is A a subset of B?\n",
      " False\n",
      "Is B a superset of A?\n",
      " False\n",
      "56  removed from set A.\n"
     ]
    }
   ],
   "source": [
    "#Q4\n",
    "A = {34, 56, 78, 90}\n",
    "B = {78, 45, 90, 23}\n",
    "print(\"score achieved by both team:\",A|B)    # or A.union(B)\n",
    "print(\"common score of both teams:\",A.intersection(B))\n",
    "print(\"Exclusive scores (Symmetric Difference):\", A.symmetric_difference(B))\n",
    "\n",
    "\n",
    "print(\"Is A a subset of B?\\n\", A.issubset(B))\n",
    "print(\"Is B a superset of A?\\n\", B.issuperset(A))\n",
    "X = int(input(\"Enter a score to remove from set A: \"))\n",
    "if X in A:\n",
    "    A.remove(X)\n",
    "    print(X,\" removed from set A.\")\n",
    "else:\n",
    "    print(X,\" is not present in set A\")"
   ]
  },
  {
   "cell_type": "code",
   "execution_count": 6,
   "id": "4f039e5a",
   "metadata": {},
   "outputs": [
    {
     "name": "stdout",
     "output_type": "stream",
     "text": [
      "{'name': 'Kelly', 'age': 25, 'salary': 8000, 'city': 'New York'}\n",
      "{'name': 'Kelly', 'age': 25, 'salary': 8000, 'location': 'New York'}\n"
     ]
    }
   ],
   "source": [
    "#Q5\n",
    "sample_dict={\"name\":\"Kelly\",\"age\":25,\"salary\":8000,\"city\":\"New York\"}\n",
    "print(sample_dict)\n",
    "sample_dict[\"location\"] = sample_dict.pop(\"city\")\n",
    "print(sample_dict)\n"
   ]
  }
 ],
 "metadata": {
  "kernelspec": {
   "display_name": "Python 3",
   "language": "python",
   "name": "python3"
  },
  "language_info": {
   "codemirror_mode": {
    "name": "ipython",
    "version": 3
   },
   "file_extension": ".py",
   "mimetype": "text/x-python",
   "name": "python",
   "nbconvert_exporter": "python",
   "pygments_lexer": "ipython3",
   "version": "3.13.1"
  }
 },
 "nbformat": 4,
 "nbformat_minor": 5
}
