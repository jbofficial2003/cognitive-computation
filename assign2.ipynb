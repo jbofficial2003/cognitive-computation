{
 "cells": [
  {
   "cell_type": "code",
   "execution_count": 27,
   "id": "70f6d206-2f00-4ac1-bd4f-10d32e25b5d8",
   "metadata": {},
   "outputs": [
    {
     "name": "stdout",
     "output_type": "stream",
     "text": [
      "[10, 20, 40, 30, 50, 60, 70, 80]\n",
      "[10, 20, 40, 30, 50, 60, 70, 80, 200, 300]\n",
      "[20, 40, 50, 60, 70, 80, 200, 300]\n",
      "[20, 40, 50, 60, 70, 80, 200, 300]\n",
      "[300, 200, 80, 70, 60, 50, 40, 20]\n"
     ]
    }
   ],
   "source": [
    "L=[10,20,40,30,50,60,70,80]\n",
    "print(L)\n",
    "L.append(200)\n",
    "L.append(300)\n",
    "print(L)\n",
    "L.remove(10)\n",
    "L.remove(30)\n",
    "print(L)\n",
    "L.sort()\n",
    "print(L)\n",
    "L.sort(reverse=True)\n",
    "print(L)"
   ]
  },
  {
   "cell_type": "code",
   "execution_count": 47,
   "id": "6a3198eb-1e18-4c8c-abe0-4b30a9ab4e61",
   "metadata": {},
   "outputs": [
    {
     "name": "stdout",
     "output_type": "stream",
     "text": [
      "92\n",
      "5\n",
      "[45, 58, 92, 89, 45.4, 76, 89.5, 45]\n"
     ]
    },
    {
     "name": "stdin",
     "output_type": "stream",
     "text": [
      "Enter a number to search 45\n"
     ]
    },
    {
     "name": "stdout",
     "output_type": "stream",
     "text": [
      "45  is in touple at index 0\n"
     ]
    }
   ],
   "source": [
    "scores=(45,89.5,76,45.4,89,92,58,45)\n",
    "high=max(scores)\n",
    "highest_index=scores.index(high)\n",
    "print(high)\n",
    "print(highest_index)\n",
    "reversed_list = list(scores[::-1])\n",
    "print(reversed_list)\n",
    "num=int(input(\"Enter a number to search\"))\n",
    "if num in scores:\n",
    "    print(num,\" is in touple at index\",scores.index(num))\n",
    "else:\n",
    "    print(num,\" is not in touple\")\n"
   ]
  },
  {
   "cell_type": "code",
   "execution_count": null,
   "id": "43710a5d-ade8-48bc-8139-49acb8b84d84",
   "metadata": {},
   "outputs": [],
   "source": [
    "import random\n"
   ]
  }
 ],
 "metadata": {
  "kernelspec": {
   "display_name": "Python [conda env:base] *",
   "language": "python",
   "name": "conda-base-py"
  },
  "language_info": {
   "codemirror_mode": {
    "name": "ipython",
    "version": 3
   },
   "file_extension": ".py",
   "mimetype": "text/x-python",
   "name": "python",
   "nbconvert_exporter": "python",
   "pygments_lexer": "ipython3",
   "version": "3.11.7"
  }
 },
 "nbformat": 4,
 "nbformat_minor": 5
}
