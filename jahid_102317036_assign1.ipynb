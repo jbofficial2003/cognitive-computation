{
 "cells": [
  {
   "cell_type": "code",
   "execution_count": null,
   "metadata": {},
   "outputs": [],
   "source": [
    "#1\n",
    "print(\"Hello World\")"
   ]
  },
  {
   "cell_type": "code",
   "execution_count": null,
   "metadata": {},
   "outputs": [],
   "source": [
    "# que 1.1\n",
    "print(\"Jahid hussain bhati\")\n",
    "print(\"Jahid hussain bhati\")\n",
    "print(\"Jahid hussain bhati\")"
   ]
  },
  {
   "cell_type": "code",
   "execution_count": null,
   "metadata": {},
   "outputs": [],
   "source": [
    "#2.1\n",
    "a = 15\n",
    "b = 80\n",
    "c = a + b \n",
    "print(c)"
   ]
  },
  {
   "cell_type": "code",
   "execution_count": null,
   "metadata": {},
   "outputs": [],
   "source": [
    "#2.2\n",
    "a=\"Jahid\"\n",
    "b=\" Hussain\"\n",
    "c=a+b\n",
    "print(c)"
   ]
  },
  {
   "cell_type": "code",
   "execution_count": null,
   "metadata": {},
   "outputs": [],
   "source": [
    "#2.3\n",
    "a=\"jahid\"\n",
    "b=54\n",
    "c=a+str(b)\n",
    "print(c)"
   ]
  },
  {
   "cell_type": "code",
   "execution_count": null,
   "metadata": {},
   "outputs": [],
   "source": [
    "# que 2.1\n",
    "a=8\n",
    "b=49\n",
    "c=56\n",
    "d=a+b+c\n",
    "print(d)"
   ]
  },
  {
   "cell_type": "code",
   "execution_count": null,
   "metadata": {},
   "outputs": [],
   "source": [
    "# que 2.2\n",
    "a=\"Jahid \"\n",
    "b=\"Hussain \"\n",
    "c=\"Bhati \"\n",
    "d=a+b+c\n",
    "print(d)"
   ]
  },
  {
   "cell_type": "code",
   "execution_count": null,
   "metadata": {},
   "outputs": [],
   "source": [
    "#3.1\n",
    "a = input(\"Enter First String: \")\n",
    "b = input(\"Enter Second String: \")\n",
    "c=a+b\n",
    "print(c)"
   ]
  },
  {
   "cell_type": "code",
   "execution_count": null,
   "metadata": {},
   "outputs": [],
   "source": [
    "#3.2\n",
    "a=int(input(\"Enter value of a\"))\n",
    "b=int(input(\"Enter value of b\"))\n",
    "print(\"a+b:\",a+b)"
   ]
  },
  {
   "cell_type": "code",
   "execution_count": null,
   "metadata": {},
   "outputs": [],
   "source": [
    "#4.1\n",
    "i=1\n",
    "while i<=10:\n",
    "    print(i)\n",
    "    i=i+1"
   ]
  },
  {
   "cell_type": "code",
   "execution_count": null,
   "metadata": {},
   "outputs": [],
   "source": [
    "#4.2\n",
    "print (\"range(10)        --> \", list(range(10)))\n",
    "print (\"range(10,20)     --> \", list(range(10,20)))\n",
    "print (\"range(0,20,2)    --> \", list(range(2,20,2)))\n",
    "print (\"range(-10,-20,2) --> \", list(range(-10,-20,2)))\n",
    "print (\"range(-10,-20,-2)--> \", list(range(-10,-20,-2)))"
   ]
  },
  {
   "cell_type": "code",
   "execution_count": null,
   "metadata": {},
   "outputs": [],
   "source": [
    "#4.3.1\n",
    "for i in range(0,10):\n",
    "    print(i)"
   ]
  },
  {
   "cell_type": "code",
   "execution_count": null,
   "metadata": {},
   "outputs": [],
   "source": [
    "#4.3.2\n",
    "for i in range(1,20,3):\n",
    "    print(i)"
   ]
  },
  {
   "cell_type": "code",
   "execution_count": null,
   "metadata": {},
   "outputs": [],
   "source": [
    "#4.3.3\n",
    "for i in range(0,-10,-1):\n",
    "    print(i)"
   ]
  },
  {
   "cell_type": "code",
   "execution_count": null,
   "metadata": {},
   "outputs": [],
   "source": [
    "#4.4\n",
    "print(\"Table of 5:\")\n",
    "for i in range(1,11):\n",
    "    print(i*5)"
   ]
  },
  {
   "cell_type": "code",
   "execution_count": null,
   "metadata": {},
   "outputs": [],
   "source": [
    "#4.5.1\n",
    "s=0\n",
    "for i in range(1,11):\n",
    "    s=s+i\n",
    "print(\"sum of 1 to 10 is:\",s)"
   ]
  },
  {
   "cell_type": "code",
   "execution_count": null,
   "metadata": {},
   "outputs": [],
   "source": [
    "#4.5.2\n",
    "print (\"Sum is --> \", sum(range(1,11)))"
   ]
  },
  {
   "cell_type": "code",
   "execution_count": null,
   "metadata": {},
   "outputs": [],
   "source": [
    "# que 4.1\n",
    "print(\"Table of 7:\")\n",
    "for i in range(1,11):\n",
    "    print(i*7)\n",
    "print(\"Table of 9:\")\n",
    "for i in range(1,11):\n",
    "    print(i*9)"
   ]
  },
  {
   "cell_type": "code",
   "execution_count": null,
   "metadata": {},
   "outputs": [],
   "source": [
    "# que 4.2\n",
    "n=int(input(\"Enter a number\"))\n",
    "print(\"Table of \",n,\":\")\n",
    "for i in range(1,11):\n",
    "    print(i*n)"
   ]
  },
  {
   "cell_type": "code",
   "execution_count": null,
   "metadata": {},
   "outputs": [],
   "source": [
    "# que 4.3\n",
    "n=int(input(\"Enter value of n:\"))\n",
    "s=0\n",
    "for i in range(1,n+1):\n",
    "    s+=i\n",
    "print(s)"
   ]
  },
  {
   "cell_type": "code",
   "execution_count": null,
   "metadata": {},
   "outputs": [],
   "source": [
    "#5.1\n",
    "a=int(input(\"Enter value of a\"))\n",
    "b=int(input(\"Enter value of b\"))\n",
    "if a>b:\n",
    "    print(\"a is greater than b\")\n",
    "else:\n",
    "    print(\"b is greater than a\")"
   ]
  },
  {
   "cell_type": "code",
   "execution_count": null,
   "metadata": {},
   "outputs": [],
   "source": [
    "#5.2\n",
    "n=int(input(\"Enter a number\"))\n",
    "if n%2==0:\n",
    "    print(n,\" is even\")\n",
    "else:\n",
    "    print(n,\" is odd\")"
   ]
  },
  {
   "cell_type": "code",
   "execution_count": null,
   "metadata": {},
   "outputs": [],
   "source": [
    "#5.3\n",
    "n=int(input(\"Enter a numebr\"))\n",
    "f=0\n",
    "for i in range(2,n//2+1):       # // for integer division\n",
    "    if n%i==0:\n",
    "        f=1\n",
    "        break\n",
    "if f==0:\n",
    "    print(\"prime\")\n",
    "else:\n",
    "    print(\"not prime\")"
   ]
  },
  {
   "cell_type": "code",
   "execution_count": null,
   "metadata": {},
   "outputs": [],
   "source": [
    "#5.4\n",
    "a=input(\"Enter first name\")\n",
    "b=input(\"Enter second name\")\n",
    "if a==b:\n",
    "    print(\"a=b\")\n",
    "elif a>b:\n",
    "    print(\"a>b\")\n",
    "else:\n",
    "    print(\"a<b\")\n",
    "    "
   ]
  },
  {
   "cell_type": "code",
   "execution_count": null,
   "metadata": {},
   "outputs": [],
   "source": [
    "# que 5.1\n",
    "a=int(input(\"Enter a:\"))\n",
    "b=int(input(\"Enter b:\"))\n",
    "c=int(input(\"Enter c:\"))\n",
    "max_num=max(a,b,c)\n",
    "print(\"Maximum is\",max_num)"
   ]
  },
  {
   "cell_type": "code",
   "execution_count": null,
   "metadata": {},
   "outputs": [],
   "source": [
    "#que 5.2\n",
    "n=int(input(\"Enter value of n:\"))\n",
    "total=0\n",
    "for i in range(1,n+1):\n",
    "    if i%7==0 and i%9==0:\n",
    "        total=total+i\n",
    "print(total)"
   ]
  },
  {
   "cell_type": "code",
   "execution_count": null,
   "metadata": {},
   "outputs": [],
   "source": [
    "# que 5.3\n",
    "n = int(input(\"Enter the value of n: \"))\n",
    "total = 0\n",
    "for num in range(2, n + 1):\n",
    "    is_prime = True\n",
    "    for i in range(2, int(num**0.5) + 1):\n",
    "        if num % i == 0:\n",
    "            is_prime = False\n",
    "            break\n",
    "    if is_prime:\n",
    "        total += num\n",
    "print(f\"The sum of all prime numbers from 1 to {n} is: {total}\")\n",
    "\n"
   ]
  },
  {
   "cell_type": "code",
   "execution_count": null,
   "metadata": {},
   "outputs": [],
   "source": [
    "#6.1\n",
    "def add(a,b):\n",
    "    return a+b\n",
    "print(\"add(20,15)=\",add(20,15))"
   ]
  },
  {
   "cell_type": "code",
   "execution_count": null,
   "metadata": {},
   "outputs": [],
   "source": [
    "#6.2\n",
    "def isPrime(num):\n",
    "    for i in range(2,num//2+1):\n",
    "        if num%i==0:\n",
    "            return 0\n",
    "    return 1\n",
    "print(\"isprime():\",isPrime(7))"
   ]
  },
  {
   "cell_type": "code",
   "execution_count": null,
   "metadata": {},
   "outputs": [],
   "source": [
    "#6.3\n",
    "def AddN(n):\n",
    "    s=sum(range(n+1))\n",
    "    return s\n",
    "print(\"Sum of first 10 integer is:\",AddN(10))"
   ]
  },
  {
   "cell_type": "code",
   "execution_count": null,
   "metadata": {},
   "outputs": [],
   "source": [
    "# que 6.1\n",
    "def add_odd(n):\n",
    "    result=0\n",
    "    for i in range(n+1):\n",
    "        if i%2!=0:\n",
    "            result=result+i\n",
    "    return result\n",
    "n=int(input(\"Enter value of n\"))\n",
    "print(\"sum of odd number from 1 to n is:\",add_odd(n))\n"
   ]
  },
  {
   "cell_type": "code",
   "execution_count": null,
   "metadata": {},
   "outputs": [],
   "source": [
    "# que 6.2\n",
    "def is_prime(num):\n",
    "    if num <= 1:\n",
    "        return False\n",
    "    for i in range(2, int(num**0.5) + 1):\n",
    "        if num % i == 0:\n",
    "            return False\n",
    "    return True\n",
    "def sum_of_primes(n):\n",
    "    total = 0\n",
    "    for i in range(2, n + 1):\n",
    "        if is_prime(i):\n",
    "            total += i\n",
    "    return total\n",
    "n = int(input(\"Enter a number: \"))\n",
    "if n < 1:\n",
    "    print(\"Please enter a number greater than or equal to 1.\")\n",
    "else:\n",
    "    result = sum_of_primes(n)\n",
    "    print(f\"The sum of all prime numbers from 1 to {n} is: {result}\")"
   ]
  },
  {
   "cell_type": "code",
   "execution_count": null,
   "metadata": {},
   "outputs": [],
   "source": [
    "#7\n",
    "import math as m\n",
    "print (\"exp(-150)    --> \", m.exp(-200))  # Exponential function\n",
    "print (\"log(100,2)   --> \", m.log(100,2)) # Log\n",
    "print (\"log(100,10)  --> \", m.log(100,10))# Log\n",
    "print (\"log10(100)   --> \", m.log10(100)) # Log 10\n",
    "print (\"m.cos(30)    --> \", m.cos(30))    # cos\n",
    "print (\"m.sin(30)    --> \", m.sin(30))    # sin\n",
    "print (\"m.tan(30)    --> \", m.tan(30))    # tan\n",
    "print (\"m.sqrt(324)  --> \", m.sqrt(324))\n",
    "print (\"m.ceil(89.9) --> \", m.ceil(89.9))\n",
    "print (\"m.floor(89.9)--> \", m.floor(89.9))"
   ]
  },
  {
   "cell_type": "code",
   "execution_count": null,
   "metadata": {},
   "outputs": [],
   "source": [
    "#8.1\n",
    "var = 'hello world'\n",
    "print (\"var      --> \", var)\n",
    "print (\"var[0]   --> \", var[0])\n",
    "print (\"var[1:5] --> \", var[1:5])\n",
    "print (\"var[:-5] --> \", var[:-5])"
   ]
  },
  {
   "cell_type": "code",
   "execution_count": null,
   "metadata": {},
   "outputs": [],
   "source": [
    "#8.2\n",
    "var='Jahid Hussain Bhati'\n",
    "print (\"String --> \", var)\n",
    "print (\"Length --> : \", len(var))\n",
    "print (\"Upper  --> : \", var.upper())\n",
    "print (\"Lower  --> : \", var.lower())"
   ]
  },
  {
   "cell_type": "code",
   "execution_count": null,
   "metadata": {},
   "outputs": [],
   "source": [
    "#8.3\n",
    "name=input(\"Enter your name: \")\n",
    "age=int(input(\"Enter your age : \"))\n",
    "price=float(input(\"Enter the book price: \"))\n",
    "s=\"\\nYour name is %s, age is %d and book price is %f\" %(name.upper(),age,price)\n",
    "print (s)"
   ]
  },
  {
   "cell_type": "code",
   "execution_count": null,
   "metadata": {},
   "outputs": [],
   "source": [
    "#8.4\n",
    "para_str = \"\"\"This is a long string that is made up of\n",
    "several lines and non-printable characters such as\n",
    "TAB ( \\t ) and they will show up that way when displayed.\n",
    "NEWLINEs within the string, whether explicitly given like\n",
    "this within the brackets [ \\n ], or just a NEWLINE within\n",
    "the variable assignment will also show up.\n",
    "\"\"\"\n",
    "print (para_str)"
   ]
  },
  {
   "cell_type": "code",
   "execution_count": null,
   "metadata": {},
   "outputs": [],
   "source": [
    "#8.5\n",
    "name=\"jahid      hussain bhati    \"\n",
    "print(\"String    --> \", name)\n",
    "print(\"Length    --> \", len(name))\n",
    "print(\"name strip --> \", name.strip())\n",
    "print(\"Length of name after strip --> \", len(name.strip()))\n",
    "     \n"
   ]
  },
  {
   "cell_type": "code",
   "execution_count": null,
   "metadata": {},
   "outputs": [],
   "source": [
    "#8.6\n",
    "var =\" Indian,   Army    \"\n",
    "\n",
    "print(\"String    --> \", var)\n",
    "print(\"Length    --> \", len(var))\n",
    "print(\"var split --> \", var.split())\n",
    "print(\"var split --> \", var.split(' '))\n",
    "print(\"var split --> \", var.split(','))\n",
    "\n",
    "# Strip + Split\n",
    "print(\"var split --> \", var.strip().split(','))"
   ]
  },
  {
   "cell_type": "code",
   "execution_count": null,
   "metadata": {},
   "outputs": [],
   "source": [
    "#8.7\n",
    "name=\"jahid hussain bhati\"\n",
    "print (\"String       --> \", name)\n",
    "print (\"Count of ' ' --> \", name.count(' '))\n",
    "print (\"Count of 'd' --> \", name.count('d'))\n",
    "print (\"Count of 'h' --> \", name.count('h'))"
   ]
  },
  {
   "cell_type": "code",
   "execution_count": null,
   "metadata": {},
   "outputs": [],
   "source": [
    "#8.8\n",
    "var=\"Indian Army\"\n",
    "print (\"String    --> \", var)\n",
    "print (\"var[::1]  --> \", var[::1])\n",
    "print (\"var[::2]  --> \", var[::2])\n",
    "print (\"var[::-1] --> \", var[::-1])\n",
    "print (\"var[::-2] --> \", var[::-2])\n",
    "\n",
    "var=var[::-1]\n",
    "print (\"var after reverse --> \", var)"
   ]
  },
  {
   "cell_type": "code",
   "execution_count": null,
   "metadata": {},
   "outputs": [],
   "source": [
    "#8.9\n",
    "s1=\"jahid\"\n",
    "s2=\"hussain\"\n",
    "s3=\"madam\"\n",
    "s4=\"abcba\"\n",
    "print (\"s1 --> \", s1==s1[::-1])\n",
    "print (\"s2 --> \", s2==s2[::-1])\n",
    "print (\"s3 --> \", s3==s3[::-1])\n",
    "print (\"s4 --> \", s4==s4[::-1])"
   ]
  },
  {
   "cell_type": "code",
   "execution_count": null,
   "metadata": {},
   "outputs": [],
   "source": [
    "#9.1\n",
    "import random as r\n",
    "print (r.random())\n",
    "print (r.random())\n",
    "print (round(r.random(),4))"
   ]
  },
  {
   "cell_type": "code",
   "execution_count": null,
   "metadata": {},
   "outputs": [],
   "source": [
    "#9.2\n",
    "import random as r\n",
    "print (r.randint(1, 100))\n",
    "print (r.randint(1, 100))\n",
    "print (r.randint(-10, 10))\n",
    "print (r.randint(-10, 10))"
   ]
  },
  {
   "cell_type": "code",
   "execution_count": null,
   "metadata": {},
   "outputs": [],
   "source": [
    "#9.3\n",
    "import random as r\n",
    "print (r.uniform(1, 100))\n",
    "print (r.uniform(1, 100))\n",
    "print (r.uniform (-10, 10))\n",
    "print (r.uniform (-10, 10))\n",
    "print (round(r.uniform (-10, 10),2))"
   ]
  },
  {
   "cell_type": "code",
   "execution_count": null,
   "metadata": {},
   "outputs": [],
   "source": [
    "#9.4\n",
    "import random as r\n",
    "\n",
    "A=[1, 2, 3, 4, 5, 6, 7, 8, 9, 10]\n",
    "\n",
    "print (r.sample(A, 4))\n",
    "print (r.sample(A, 2))\n",
    "print (r.sample(range(0,100), 2))\n",
    "print (r.sample(range(-100,100), 5))"
   ]
  },
  {
   "cell_type": "code",
   "execution_count": null,
   "metadata": {},
   "outputs": [],
   "source": [
    "#9.5\n",
    "import string as s\n",
    "import random as r\n",
    "print (\"String        --> \",s.ascii_letters)\n",
    "\n",
    "passwd=r.sample(s.ascii_letters, 6)\n",
    "print (\"Selected Char --> \",passwd)\n",
    "\n",
    "passwd1=\"\".join(passwd)\n",
    "print (\"passwd1       --> \",passwd1)\n",
    "\n",
    "passwd2=\"+\".join(passwd)\n",
    "print (\"passwd2       --> \",passwd2)\n",
    "\n",
    "passwd3=\"*\".join(passwd)\n",
    "print (\"passwd3       --> \",passwd3)\n"
   ]
  },
  {
   "cell_type": "code",
   "execution_count": null,
   "metadata": {},
   "outputs": [],
   "source": [
    "#9.6\n",
    "import string as s\n",
    "import random as r\n",
    "print (\"Digits --> \",s.digits)\n",
    "\n",
    "otp=r.sample(s.digits, 5)\n",
    "print (\"Selected num1 --> \",otp)\n",
    "otp=\"\".join(otp)\n",
    "print (\"otp1          --> \",otp)"
   ]
  },
  {
   "cell_type": "code",
   "execution_count": null,
   "metadata": {},
   "outputs": [],
   "source": [
    "#9.7\n",
    "import string as s\n",
    "import random as r\n",
    "print (\"String + Digits --> \",s.ascii_letters + s.digits)\n",
    "\n",
    "mixPasswd=r.sample(s.ascii_letters + s.digits, 5)\n",
    "print (\"\\nSelected Str1 --> \",mixPasswd)\n",
    "mixPasswd=\"\".join(mixPasswd)\n",
    "print (\"mixPasswd1    --> \",mixPasswd)\n"
   ]
  },
  {
   "cell_type": "code",
   "execution_count": null,
   "metadata": {},
   "outputs": [],
   "source": [
    "#10.1\n",
    "for i in range(-10,6):\n",
    "\tprint (\"100/\",i,\" --> \", 100/i)"
   ]
  },
  {
   "cell_type": "code",
   "execution_count": null,
   "metadata": {},
   "outputs": [],
   "source": [
    "#10.2\n",
    "for i in range(-2,2):\n",
    "\ttry:\n",
    "\t\tprint (\"100/\",i,\" --> \", 100/i)\n",
    "\texcept:\n",
    "\t\tprint (\"error\")"
   ]
  },
  {
   "cell_type": "code",
   "execution_count": null,
   "metadata": {},
   "outputs": [],
   "source": [
    "#10.3\n",
    "ar=[1,2,3,4,5]\n",
    "\n",
    "for i in range(10):\n",
    "\ttry:\n",
    "\t\tprint (i,\" --> \",ar[i])\n",
    "\texcept:\n",
    "\t\tprint (\"error\")"
   ]
  },
  {
   "cell_type": "code",
   "execution_count": null,
   "metadata": {},
   "outputs": [],
   "source": [
    "#10.4\n",
    "fileName=input(\"Enter File Name: \")\n",
    "fp=open(fileName)\n",
    "fp.close()\n",
    "print (\"Done\")"
   ]
  },
  {
   "cell_type": "code",
   "execution_count": null,
   "metadata": {},
   "outputs": [],
   "source": [
    "#10.5\n",
    "fileName=input(\"Enter File Name: \")\n",
    "try:\n",
    "\tfp=open(fileName)\t# Open the file in reading mode\n",
    "\tfp.close()\n",
    "except:\n",
    "\tprint (\"Error !!\",fileName, \" File Not Found\")\n",
    "\n",
    "print (\"Done\")"
   ]
  },
  {
   "cell_type": "code",
   "execution_count": null,
   "metadata": {},
   "outputs": [],
   "source": [
    "#11.1\n",
    "L = [\"jahid\",  'hussain', 1.2,  3 ]\n",
    "print (\"Original List: \", L)\n",
    "print (\"Number of elements in list: \", len(L))"
   ]
  },
  {
   "cell_type": "code",
   "execution_count": null,
   "metadata": {},
   "outputs": [],
   "source": [
    "#11.2\n",
    "L = [\"jahid\",  'hussain', 1.2,  3 ]\n",
    "print (\"Original List: \", L)\n",
    "i=0\n",
    "while i < len(L):\n",
    "\tprint (L[i])\n",
    "\ti+=1"
   ]
  },
  {
   "cell_type": "code",
   "execution_count": null,
   "metadata": {},
   "outputs": [],
   "source": [
    "#11.3\n",
    "L = [\"jahid\",  'hussain', 1.2,  3 ]\n",
    "for i in range(0,len(L)):\n",
    "    print(L[i])"
   ]
  },
  {
   "cell_type": "code",
   "execution_count": null,
   "metadata": {},
   "outputs": [],
   "source": [
    "#11.4\n",
    "L = [\"jahid\",  'hussain', 1.2,  3 ]\n",
    "for s in L:\n",
    "\tprint (s)"
   ]
  },
  {
   "cell_type": "code",
   "execution_count": null,
   "metadata": {},
   "outputs": [],
   "source": [
    "#11.5\n",
    "L = [\"Pratham\",  'Sharma', 3.14,  3 ]\n",
    "print (\"Original List       --> \", L)\n",
    "\n",
    "L.append(\"Rahul\")\n",
    "print (\"List After Adding   --> \", L)\n",
    "\n",
    "del L[1]\n",
    "print (\"List After Deleting --> \", L)"
   ]
  },
  {
   "cell_type": "code",
   "execution_count": null,
   "metadata": {},
   "outputs": [],
   "source": [
    "#11.6\n",
    "L=[3, 6, 9, 12, 5, 3, 2]\n",
    "print (\"Original List --> \", L)\n",
    "\n",
    "print (\"Sum     --> \", sum(L))\n",
    "print (\"Average --> \", sum(L)/len(L))\n",
    "print (\"Average --> \", sum(L)//len(L))\n",
    "\n",
    "print (\"L * 3   --> \", L * 3)\n",
    "print (\"L + L   --> \", L + L)"
   ]
  },
  {
   "cell_type": "code",
   "execution_count": null,
   "metadata": {},
   "outputs": [],
   "source": [
    "#11.7\n",
    "L=[3, 6, 9, 12, 5, 3, 2]\n",
    "print (\"Original List --> \", L)\n",
    "\n",
    "print (\"max --> \", max(L))\n",
    "print (\"min --> \", min(L))\n",
    "\n",
    "print (\"\\nBefore Sort            --> \", L)\n",
    "L.sort()\n",
    "\n",
    "print (\"After Sort (Asending)  --> \", L)\n",
    "\n",
    "L.sort(reverse=True)\n",
    "print (\"After Sort (Desending) --> \", L)"
   ]
  },
  {
   "cell_type": "code",
   "execution_count": null,
   "metadata": {},
   "outputs": [],
   "source": [
    "#11.8\n",
    "L1 = [1,2,3,4,5]\n",
    "L2 = [10,20,30,40,50]\n",
    "L3 = L1 + L2\n",
    "print (\"L1 --> \",L1)\n",
    "print (\"L2 --> \",L2)\n",
    "print (\"L3 --> \",L3)\n",
    "\n",
    "print (\"\\nL3[2:]  --> \",L3[2:])\n",
    "print (\"L3[2:5] --> \",L3[2:5])\n",
    "print (\"L3[:-1] --> \",L3[:-1])\n",
    "print (\"L3[::2] --> \",L3[::2])"
   ]
  },
  {
   "cell_type": "code",
   "execution_count": null,
   "metadata": {},
   "outputs": [],
   "source": [
    "#11.9\n",
    "L = [12, 5, 3, 2, 7]\n",
    "print (\"Original List --> \", L)\n",
    "\n",
    "newL = [ i * 5 for i in L ]\n",
    "print (\"After Multiply with constant --> \", newL)"
   ]
  },
  {
   "cell_type": "code",
   "execution_count": null,
   "metadata": {},
   "outputs": [],
   "source": [
    "#11.10\n",
    "L=[1,2,3,4,6,7,8,9]\n",
    "print (\"Original List --> \", 6 in L)\n",
    "print (\"Original List --> \", 10 in L)\n",
    "print (\"Original List --> \", 12 in L)\n",
    "\n",
    "if (6 in L) == True:\n",
    "\tprint (\"Present\")\n",
    "else:\n",
    "\tprint (\"Not Present\")\n",
    "\n",
    "if (11 in L) == False:\n",
    "\tprint (\"Not Present\")\n",
    "else:\n",
    "\tprint (\"Present\")"
   ]
  },
  {
   "cell_type": "code",
   "execution_count": null,
   "metadata": {},
   "outputs": [],
   "source": [
    "#12.1\n",
    "CGPA={1:8.9, 2:5.6, 4:6.7, 7:9.1, 8:5.3}\n",
    "print (\"Dictionary      --> \", CGPA)\n",
    "print (\"Num of elements --> \", len(CGPA))\n",
    "\n",
    "print (\"CGPA of 1       --> \", CGPA[1])\n",
    "print (\"CGPA of 4       --> \", CGPA[4])\n",
    "print (\"CGPA of 7       --> \", CGPA[7])"
   ]
  },
  {
   "cell_type": "code",
   "execution_count": null,
   "metadata": {},
   "outputs": [],
   "source": [
    "#12.2\n",
    "CGPA={1:8.9, 2:5.6, 4:6.7, 7:9.1, 8:5.3}\n",
    "for k in CGPA:\n",
    "\tprint (\"CGPA of \", k, \" --> \", CGPA[k])"
   ]
  },
  {
   "cell_type": "code",
   "execution_count": null,
   "metadata": {},
   "outputs": [],
   "source": [
    "#12.3\n",
    "CGPA={1:8.9, 2:5.6, 4:6.7, 7:9.1, 8:5.3}\n",
    "print (\"Dictionary --> \", CGPA)\n",
    "print (\"Keys       --> \", list(CGPA.keys()))\n",
    "print (\"Values     --> \", list(CGPA.values()))"
   ]
  },
  {
   "cell_type": "code",
   "execution_count": null,
   "metadata": {},
   "outputs": [],
   "source": [
    "#12.4\n",
    "CGPA={1:8.9,2:5.6,4:6.7,7:9.1,8:5.3}\n",
    "print (\"Original Dictionary --> \", CGPA)\n",
    "\n",
    "CGPA[4] = 9.2\n",
    "print (\"After Updating (4)  --> \", CGPA)\n",
    "\n",
    "CGPA[3] = 8.6\n",
    "print (\"After Adding (3)    --> \", CGPA)\n",
    "\n",
    "del CGPA[1]\n",
    "print (\"After Deleting (1)  --> \", CGPA)\n",
    "\n",
    "CGPA.clear()\n",
    "print (\"After Clear         --> \", CGPA)\n",
    "\n",
    "del CGPA\n",
    "#print (\"After Delete        --> \", CGPA)"
   ]
  },
  {
   "cell_type": "code",
   "execution_count": null,
   "metadata": {},
   "outputs": [],
   "source": [
    "#12.5\n",
    "CGPA={1:5.6,2:9.8,3:8.7}\n",
    "print (\"Original Dictionary --> \", CGPA)\n",
    "print (\"Is Key 2 Present    --> \", 2 in CGPA)\n",
    "print (\"Is Key 9 Present    --> \", 9 in CGPA)"
   ]
  },
  {
   "cell_type": "code",
   "execution_count": null,
   "metadata": {},
   "outputs": [],
   "source": [
    "#12.6\n",
    "HomeTown={\"Prashant\":\"Delhi\", \"Govind\":\"Gwalior\", \"Anil\":\"Morena\", \"Pankaj\":\"Agra\"}\n",
    "print (\"Original Dictionary --> \", HomeTown)\n",
    "print (\"Home Town of Prashant is --> \", HomeTown[\"Prashant\"])\n",
    "print (\"Home Town of Govind is   --> \", HomeTown[\"Govind\"])\n",
    "print (\"Home Town of Anil is     --> \", HomeTown[\"Anil\"])\n",
    "print (\"Home Town of Pankaj is   --> \", HomeTown[\"Pankaj\"])"
   ]
  },
  {
   "cell_type": "code",
   "execution_count": null,
   "metadata": {},
   "outputs": [],
   "source": [
    "#12.7\n",
    "HomeTown={\"Prashant\":\"Delhi\", \"Govind\":\"Gwalior\", \"Anil\":\"Morena\", \"Pankaj\":\"Agra\"}\n",
    "print (\"Original Dictionary --> \", HomeTown)\n",
    "\n",
    "for p in HomeTown:\n",
    "\tprint (\"Home Town of \", p, \" is  --> \", HomeTown[p])"
   ]
  },
  {
   "cell_type": "code",
   "execution_count": null,
   "metadata": {},
   "outputs": [],
   "source": [
    "#13.1\n",
    "# Method 1\n",
    "T = (\"jahid\", 'hussain', 3.14, 7)\n",
    "\n",
    "print (\"T               -->\", T)\n",
    "print (\"Num of elements -->\", len(T))\n",
    "print (\"Type of Object  -->\", type(T))\n",
    "\n",
    "\n",
    "# Method 2\n",
    "T = tuple([\"jahid\", 'bhati', 3.14, 3])\n",
    "\n",
    "print (\"T               -->\", T)\n",
    "print (\"Num of elements -->\", len(T))\n",
    "print (\"Type of Object  -->\", type(T))"
   ]
  },
  {
   "cell_type": "code",
   "execution_count": null,
   "metadata": {},
   "outputs": [],
   "source": [
    "#13.2\n",
    "T = (\"jahid\", 'hussain', 3.14, 3)\n",
    "print (\"T -->\", T)\n",
    "\n",
    "i = 0\n",
    "while i < len(T):\n",
    "    print (T[i])\n",
    "    i += 1"
   ]
  },
  {
   "cell_type": "code",
   "execution_count": null,
   "metadata": {},
   "outputs": [],
   "source": [
    "#13.3\n",
    "T = (\"jahid\", 'hussain', 3.14, 3)\n",
    "print (\"T -->\", T)\n",
    "\n",
    "for i in range(0, len(T)):\n",
    "    print (T[i])"
   ]
  },
  {
   "cell_type": "code",
   "execution_count": null,
   "metadata": {},
   "outputs": [],
   "source": [
    "#13.4\n",
    "T = (\"jahid\", 'bhati', 3.14, 3)\n",
    "print (\"T -->\", T)\n",
    "\n",
    "for s in T:\n",
    "    print (s)"
   ]
  },
  {
   "cell_type": "code",
   "execution_count": null,
   "metadata": {},
   "outputs": [],
   "source": [
    "#13.5 example 1\n",
    "T = (3, 6, 9, 12, 5, 3, 2)\n",
    "print (\"T     -->\", T)\n",
    "\n",
    "print (\"T[1]  -->\", T[1])\n",
    "print (\"T[2]  -->\", T[2])\n",
    "print (\"T[-1] -->\", T[-1])\n",
    "print (\"T[-2] -->\", T[-2])\n"
   ]
  },
  {
   "cell_type": "code",
   "execution_count": null,
   "metadata": {},
   "outputs": [],
   "source": [
    "#13.5 example 2\n",
    "T = (3, 6, 9, 12, 5, 3, 2)\n",
    "print (\"T        -->\", T)\n",
    "\n",
    "print (\"T[1:3]   -->\", T[1:3])\n",
    "print (\"T[2:]    -->\", T[2:])\n",
    "print (\"T[2:5]   -->\", T[2:5])\n",
    "print (\"T[:2]    -->\", T[:2])\n",
    "print (\"T[:-1]   -->\", T[:-1])\n",
    "print (\"T[-4:-1] -->\", T[-4:-1])"
   ]
  },
  {
   "cell_type": "code",
   "execution_count": null,
   "metadata": {},
   "outputs": [],
   "source": [
    "#13.6\n",
    "T = (1,2,3,4,5,6,7,8,9,10)\n",
    "print (\"T       -->\", T)\n",
    "print (\"Sum     -->\", sum(T))\n",
    "print (\"Average -->\", sum(T)/len(T))\n",
    "print (\"Average -->\", sum(T)//len(T))"
   ]
  },
  {
   "cell_type": "code",
   "execution_count": null,
   "metadata": {},
   "outputs": [],
   "source": [
    "#13.7 example 1\n",
    "T = (3, 6, 9, 12, 5, 3, 2)                # Integer Tuple\n",
    "print (\"T   -->\", T)\n",
    "print (\"Max -->\", max(T))\n",
    "print (\"Min -->\", min(T))"
   ]
  },
  {
   "cell_type": "code",
   "execution_count": null,
   "metadata": {},
   "outputs": [],
   "source": [
    "#13.7 example 2\n",
    "T = (\"jahid\", \"hussain\", \"bhati\")      # String Tuple\n",
    "print (\"T   -->\", T)\n",
    "print (\"Max -->\", max(T))\n",
    "print (\"Min -->\", min(T))"
   ]
  },
  {
   "cell_type": "code",
   "execution_count": null,
   "metadata": {},
   "outputs": [],
   "source": [
    "#13.8\n",
    "T1 = (1,2,3)\n",
    "T2 = (3,4,5,6,7,3)\n",
    "\n",
    "print (\"T1 -->\", T1)\n",
    "print (\"T2 -->\", T2)\n",
    "\n",
    "T3 = T1 + T2\n",
    "print (\"T3 -->\", T3)\n",
    "\n",
    "T4 = T1 + T2 + T1 + T2\n",
    "print (\"T4 -->\", T4)"
   ]
  },
  {
   "cell_type": "code",
   "execution_count": null,
   "metadata": {},
   "outputs": [],
   "source": [
    "#13.9\n",
    "T1 = (4,3,2,1)\n",
    "T2 = (4,5,6,7)\n",
    "\n",
    "print (\"T1 -->\", T1)\n",
    "print (\"T2 -->\", T2)\n",
    "\n",
    "T3 = T1[1:2] + T2[1:3]\n",
    "print (\"T3 -->\", T3)\n",
    "\n",
    "T4 = T1[:-2] + T2[:-3]\n",
    "print (\"T4 -->\", T4)"
   ]
  },
  {
   "cell_type": "code",
   "execution_count": null,
   "metadata": {},
   "outputs": [],
   "source": [
    "#13.10\n",
    "T = (3, 6, 9, 12, 5, 3, 2)\n",
    "print (\"T       -->\", T)\n",
    "\n",
    "print (\"6  in T -->\", 6 in T)\n",
    "print (\"10 in T -->\", 10 in T)\n",
    "print (\"12 in T -->\", 12 in T)"
   ]
  },
  {
   "cell_type": "code",
   "execution_count": null,
   "metadata": {},
   "outputs": [],
   "source": [
    "#13.11\n",
    "T = (\"Pratham\", 'Sharma', 3.14, 3)\n",
    "print (\"T -->\", T)\n",
    "\n",
    "T[2] = 900               # Error; 'tuple' object does not support item assignment\n",
    "print (\"T -->\", T)\n"
   ]
  },
  {
   "cell_type": "code",
   "execution_count": null,
   "metadata": {},
   "outputs": [],
   "source": [
    "#13.12\n",
    "T = (\"jahid\", 'hussain', 3.14, 3)\n",
    "print (\"T         -->\", T)\n",
    "\n",
    "T1 = list(T)\n",
    "T1.append(9.8)\n",
    "T = tuple(T1)\n",
    "\n",
    "print (\"After Add -->\", T)"
   ]
  },
  {
   "cell_type": "code",
   "execution_count": null,
   "metadata": {},
   "outputs": [],
   "source": [
    "#13.13\n",
    "T = (\"jahid\", 'hussain', 3.14, 3)\n",
    "print (\"T            -->\", T)\n",
    "\n",
    "T1 = list(T)\n",
    "T1.insert(2, \"bhati\")\n",
    "T = tuple(T1)\n",
    "\n",
    "print (\"After Insert -->\", T)\n"
   ]
  },
  {
   "cell_type": "code",
   "execution_count": null,
   "metadata": {},
   "outputs": [],
   "source": [
    "#13.14\n",
    "T = (\"jahid\", 'hussain','bhati', 3.14, 3)\n",
    "print (\"T            -->\", T)\n",
    "\n",
    "del T[1]\n",
    "\n",
    "print (\"After Delete -->\", T)"
   ]
  },
  {
   "cell_type": "code",
   "execution_count": null,
   "metadata": {},
   "outputs": [],
   "source": [
    "#13.15\n",
    "T = (\"jahid\", 'hussain', 3.14, 3)\n",
    "print (\"T            -->\", T)\n",
    "\n",
    "T1 = list(T)\n",
    "del T1[1]\n",
    "T = tuple(T1)\n",
    "\n",
    "print (\"After Delete -->\", T)"
   ]
  },
  {
   "cell_type": "code",
   "execution_count": null,
   "metadata": {},
   "outputs": [],
   "source": [
    "#14.1\n",
    "s = set(['A', 'B', 'E', 'F','E', 'F' ])\n",
    "print (\"Original set           --> \", s)\n",
    "print (\"Num of elements in set --> \", len(s))"
   ]
  },
  {
   "cell_type": "code",
   "execution_count": null,
   "metadata": {},
   "outputs": [],
   "source": [
    "#14.2\n",
    "a = set(['A', 'B', 'E', 'F' ])\n",
    "b = set([\"A\", \"C\", \"D\", \"E\"])\n",
    "print (\"Original set a      --> \", a)\n",
    "print (\"Original set b      --> \", b)\n",
    "print (\"Union of a and b    --> \", a.union(b))\n",
    "print (\"Intersection of a,b --> \", a.intersection(b))\n",
    "print (\"Difference a - b    --> \", a - b)\n",
    "print (\"Difference a - b    --> \", a.difference(b))\n",
    "print (\"Difference b - a    --> \", b - a)\n",
    "print (\"Difference b - a    --> \", b.difference(a))\n",
    "print (\"Symetric Diff a - b --> \", a.symmetric_difference(b))\n",
    "print (\"Symetric Diff b - a --> \", b.symmetric_difference(a))"
   ]
  },
  {
   "cell_type": "code",
   "execution_count": null,
   "metadata": {},
   "outputs": [],
   "source": [
    "#14.3\n",
    "a = set(['A', 'B', 'E', 'F' ])\n",
    "print (\"Original set a       --> \", a)\n",
    "a.add(\"D\")\n",
    "print (\"Set After Adding (D) --> \", a)\n",
    "a.add(\"D\")\n",
    "print (\"Set After Adding (D) --> \", a)\n",
    "a.remove(\"D\")\n",
    "print (\"Set After Deleting(D)--> \", a)\n",
    "a.pop()\n",
    "print (\"Set After pop        --> \", a)\n",
    "a.pop()\n",
    "print (\"Set After pop        --> \", a)"
   ]
  },
  {
   "cell_type": "code",
   "execution_count": null,
   "metadata": {},
   "outputs": [],
   "source": [
    "#15.1\n",
    "import sys\n",
    "print (sys.argv)\n",
    "a = int(sys.argv[1])\n",
    "b = int(sys.argv[2])\n",
    "c = a + b\n",
    "print (a, \" + \", b, \" --> \", c)"
   ]
  },
  {
   "cell_type": "code",
   "execution_count": null,
   "metadata": {},
   "outputs": [],
   "source": [
    "#15.2\n",
    "import sys\n",
    "print (sys.argv)\n",
    "s = sys.argv[1] + \" \" + sys.argv[2]\n",
    "print (sys.argv[1], \" + \", sys.argv[2], \" --> \", s)"
   ]
  },
  {
   "cell_type": "code",
   "execution_count": null,
   "metadata": {},
   "outputs": [],
   "source": [
    "#15.3\n",
    "import sys\n",
    "print (sys.argv)\n",
    "sum=0\n",
    "for s in sys.argv[1:]:\n",
    "\tsum += int(s)\n",
    "\n",
    "print (\"Sum is --> \", sum)"
   ]
  },
  {
   "cell_type": "code",
   "execution_count": null,
   "metadata": {},
   "outputs": [],
   "source": [
    "#16.1\n",
    "fp=open('result.txt','w')\n",
    "for  i in range(1,11):\n",
    "\tfp.write(str(i) + \"\\n\")\n",
    "fp.close()\n",
    "\n",
    "print (\"Writing done !! \\nOpen result.txt to view the content\")\n",
    "     "
   ]
  },
  {
   "cell_type": "code",
   "execution_count": null,
   "metadata": {},
   "outputs": [],
   "source": [
    "#16.2\n",
    "fp=open('result.txt')\t\t# Open the file in reading mode\n",
    "for line in fp: \t\t    # print line by line\n",
    "\tprint (line.strip())\n",
    "fp.close()"
   ]
  },
  {
   "cell_type": "code",
   "execution_count": null,
   "metadata": {},
   "outputs": [],
   "source": [
    "#16.3\n",
    "Readfp=open('result.txt')\n",
    "Writefp=open('abc.txt','w')\n",
    "for line in Readfp:\n",
    "\tWritefp.write(line.upper())\n",
    "\n",
    "Writefp.close()\n",
    "Readfp.close()\n",
    "\n",
    "print (\"Writing done !! \\nOpen result.txt to view the content\")"
   ]
  }
 ],
 "metadata": {
  "kernelspec": {
   "display_name": "Python 3",
   "language": "python",
   "name": "python3"
  },
  "language_info": {
   "codemirror_mode": {
    "name": "ipython",
    "version": 3
   },
   "file_extension": ".py",
   "mimetype": "text/x-python",
   "name": "python",
   "nbconvert_exporter": "python",
   "pygments_lexer": "ipython3",
   "version": "3.13.1"
  }
 },
 "nbformat": 4,
 "nbformat_minor": 2
}
