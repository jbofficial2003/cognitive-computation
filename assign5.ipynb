{
 "cells": [
  {
   "cell_type": "markdown",
   "metadata": {},
   "source": [
    "QUE 1 For the array gfg = np.matrix('[4, 1, 9; 12, 3, 1; 4, 5, 6]'), Find\n",
    "i. Sum of all elements\n",
    "ii. Sum of all elements row-wise\n",
    "iii. Sum of all elements column-wise"
   ]
  },
  {
   "cell_type": "code",
   "execution_count": 9,
   "metadata": {},
   "outputs": [
    {
     "name": "stdout",
     "output_type": "stream",
     "text": [
      "[[ 4  1  9]\n",
      " [12  3  1]\n",
      " [ 4  5  6]]\n",
      "45\n",
      "[[14]\n",
      " [16]\n",
      " [15]]\n",
      "[[20  9 16]]\n"
     ]
    }
   ],
   "source": [
    "import numpy as np\n",
    "gfg=np.matrix('[4,1,9;12,3,1;4,5,6]')\n",
    "print(gfg)\n",
    "print(gfg.sum())\n",
    "row_sum=np.sum(gfg,axis=1)\n",
    "print(row_sum)\n",
    "column_sum=np.sum(gfg,axis=0)\n",
    "print(column_sum)"
   ]
  },
  {
   "cell_type": "markdown",
   "metadata": {},
   "source": [
    "Q.2 (a)For the array: array = np.array([10, 52, 62, 16, 16, 54, 453]), find\n",
    "i. Sorted array\n",
    "ii. Indices of sorted array\n",
    "iii. 4 smallest elements\n",
    "iv. 5 largest elements\n"
   ]
  },
  {
   "cell_type": "code",
   "execution_count": 11,
   "metadata": {},
   "outputs": [
    {
     "name": "stdout",
     "output_type": "stream",
     "text": [
      "Sorted array: [ 10  16  16  52  54  62 453]\n",
      "Indices of sorted array: [0 3 4 1 5 2 6]\n",
      "4 smallest elements: [10 16 16 52]\n",
      "5 largest elements: [ 16  52  54  62 453]\n"
     ]
    }
   ],
   "source": [
    "import numpy as np\n",
    "\n",
    "array = np.array([10, 52, 62, 16, 16, 54, 453])\n",
    "\n",
    "sorted_array = np.sort(array)\n",
    "sorted_indices = np.argsort(array)\n",
    "smallest_elements = np.sort(array)[:4]\n",
    "largest_elements = np.sort(array)[-5:]\n",
    "\n",
    "print(\"Sorted array:\", sorted_array)\n",
    "print(\"Indices of sorted array:\", sorted_indices)\n",
    "print(\"4 smallest elements:\", smallest_elements)\n",
    "print(\"5 largest elements:\", largest_elements)"
   ]
  },
  {
   "cell_type": "markdown",
   "metadata": {},
   "source": [
    "(b) For the array: array = np.array([1.0, 1.2, 2.2, 2.0, 3.0, 2.0]), find\n",
    "i. Integer elements only\n",
    "ii. Float elements only"
   ]
  },
  {
   "cell_type": "code",
   "execution_count": 12,
   "metadata": {},
   "outputs": [
    {
     "name": "stdout",
     "output_type": "stream",
     "text": [
      "[1. 2. 3. 2.]\n",
      "[1.2 2.2]\n"
     ]
    }
   ],
   "source": [
    "import numpy as np\n",
    "array=np.array([1.0, 1.2, 2.2, 2.0, 3.0, 2.0])\n",
    "integer=array[np.floor(array)==array]\n",
    "float_ele=array[np.floor(array)!=array]\n",
    "print(integer)\n",
    "print(float_ele)"
   ]
  }
 ],
 "metadata": {
  "kernelspec": {
   "display_name": "Python 3",
   "language": "python",
   "name": "python3"
  },
  "language_info": {
   "codemirror_mode": {
    "name": "ipython",
    "version": 3
   },
   "file_extension": ".py",
   "mimetype": "text/x-python",
   "name": "python",
   "nbconvert_exporter": "python",
   "pygments_lexer": "ipython3",
   "version": "3.13.1"
  }
 },
 "nbformat": 4,
 "nbformat_minor": 2
}
